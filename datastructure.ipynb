{
  "nbformat": 4,
  "nbformat_minor": 0,
  "metadata": {
    "colab": {
      "provenance": [],
      "authorship_tag": "ABX9TyNqZF8yubsp/tiN1kC1h1LW",
      "include_colab_link": true
    },
    "kernelspec": {
      "name": "python3",
      "display_name": "Python 3"
    },
    "language_info": {
      "name": "python"
    }
  },
  "cells": [
    {
      "cell_type": "markdown",
      "metadata": {
        "id": "view-in-github",
        "colab_type": "text"
      },
      "source": [
        "<a href=\"https://colab.research.google.com/github/Akanksha-prajapati/Data-structure/blob/main/datastructure.ipynb\" target=\"_parent\"><img src=\"https://colab.research.google.com/assets/colab-badge.svg\" alt=\"Open In Colab\"/></a>"
      ]
    },
    {
      "cell_type": "code",
      "execution_count": null,
      "metadata": {
        "colab": {
          "base_uri": "https://localhost:8080/"
        },
        "id": "oFWhfmwYBgww",
        "outputId": "dbd347ab-0c4f-4122-b1bb-fee5a86f4299"
      },
      "outputs": [
        {
          "output_type": "stream",
          "name": "stdout",
          "text": [
            "Enter the string....abs\n",
            "sba\n"
          ]
        }
      ],
      "source": [
        "#Write a code to reverse a string\n",
        "\n",
        "\n",
        "#code...\n",
        "def revrse_str(s):\n",
        "  return s[::-1]\n",
        "givrn_str=input(\"Enter the string....\")\n",
        "print(revrse_str(givrn_str))"
      ]
    },
    {
      "cell_type": "code",
      "source": [
        "#Write a code to count the number of vowels in a string\n",
        "\n",
        "#code...\n",
        "\n",
        "def count_vowels(string):\n",
        "    vowels = \"aeiouAEIOU\"\n",
        "    count = 0\n",
        "    for char in string:\n",
        "        if char in vowels:\n",
        "            count += 1\n",
        "    return count\n",
        "\n",
        "# Example usage\n",
        "input_string = \"Hello, how are you?\"\n",
        "vowel_count = count_vowels(input_string)\n",
        "print(f\"The number of vowels in the string is: {vowel_count}\")\n"
      ],
      "metadata": {
        "colab": {
          "base_uri": "https://localhost:8080/"
        },
        "id": "mKBCWxgYH_xq",
        "outputId": "9edb5d7c-6453-4c9c-a1c6-2b312ae89348"
      },
      "execution_count": null,
      "outputs": [
        {
          "output_type": "stream",
          "name": "stdout",
          "text": [
            "The number of vowels in the string is: 7\n"
          ]
        }
      ]
    },
    {
      "cell_type": "code",
      "source": [
        "#Write a code to check if a given string is a palindrome or not\n",
        "\n",
        "#code....\n",
        "\n",
        "def is_palindrome(string):\n",
        "    # Remove spaces and convert to lowercase for accurate comparison\n",
        "    cleaned_string = string.replace(\" \", \"\").lower()\n",
        "    # Check if the cleaned string is equal to its reverse\n",
        "    return cleaned_string == cleaned_string[::-1]\n",
        "\n",
        "# Example usage\n",
        "input_string = \"A man a plan a canal Panama\"\n",
        "if is_palindrome(input_string):\n",
        "    print(f'\"{input_string}\" is a palindrome.')\n",
        "else:\n",
        "    print(f'\"{input_string}\" is not a palindrome.')\n"
      ],
      "metadata": {
        "colab": {
          "base_uri": "https://localhost:8080/"
        },
        "id": "zWMHVO1QPM9O",
        "outputId": "4d88f642-f113-4db2-dd8f-353af7a11a11"
      },
      "execution_count": null,
      "outputs": [
        {
          "output_type": "stream",
          "name": "stdout",
          "text": [
            "\"A man a plan a canal Panama\" is a palindrome.\n"
          ]
        }
      ]
    },
    {
      "cell_type": "code",
      "source": [
        "#Write a code to check if two given strings are anagram to each other\n",
        "\n",
        "#code...\n",
        "\n",
        "def are_anagrams(string1, string2):\n",
        "    # Remove spaces and convert to lowercase for accurate comparison\n",
        "    cleaned_string1 = string1.replace(\" \", \"\").lower()\n",
        "    cleaned_string2 = string2.replace(\" \", \"\").lower()\n",
        "\n",
        "    # Sort the characters in both strings and compare them\n",
        "    return sorted(cleaned_string1) == sorted(cleaned_string2)\n",
        "\n",
        "# Example usage\n",
        "string1 = \"listen\"\n",
        "string2 = \"silent\"\n",
        "\n",
        "if are_anagrams(string1, string2):\n",
        "    print(f'\"{string1}\" and \"{string2}\" are anagrams.')\n",
        "else:\n",
        "    print(f'\"{string1}\" and \"{string2}\" are not anagrams.')\n"
      ],
      "metadata": {
        "colab": {
          "base_uri": "https://localhost:8080/"
        },
        "id": "3pUcXnqjRC_l",
        "outputId": "fba12787-acff-4947-bd65-197d0aadac8c"
      },
      "execution_count": null,
      "outputs": [
        {
          "output_type": "stream",
          "name": "stdout",
          "text": [
            "\"listen\" and \"silent\" are anagrams.\n"
          ]
        }
      ]
    },
    {
      "cell_type": "code",
      "source": [
        "#Write a code to find all occurances of a given subtring within another string\n",
        "\n",
        "#code....\n",
        "\n",
        "def find_all_occurrences(string, substring):\n",
        "    start = 0\n",
        "    positions = []\n",
        "    while True:\n",
        "        # Find the substring starting from the 'start' position\n",
        "        start = string.find(substring, start)\n",
        "\n",
        "        # If the substring is not found, break out of the loop\n",
        "        if start == -1:\n",
        "            break\n",
        "\n",
        "        # Append the found position to the list\n",
        "        positions.append(start)\n",
        "\n",
        "        # Move the start index forward to continue searching\n",
        "        start += 1\n",
        "\n",
        "    return positions\n",
        "\n",
        "# Example usage\n",
        "string = \"This is a test. Testing is fun. Test again.\"\n",
        "substring = \"test\"\n",
        "\n",
        "positions = find_all_occurrences(string.lower(), substring.lower())\n",
        "if positions:\n",
        "    print(f\"The substring '{substring}' is found at positions: {positions}\")\n",
        "else:\n",
        "    print(f\"The substring '{substring}' is not found in the string.\")\n",
        "\n",
        "\n"
      ],
      "metadata": {
        "colab": {
          "base_uri": "https://localhost:8080/"
        },
        "id": "UirXQOlmR_KA",
        "outputId": "c1bec9b7-5f38-4c2c-be4a-3b5f0eb15f77"
      },
      "execution_count": null,
      "outputs": [
        {
          "output_type": "stream",
          "name": "stdout",
          "text": [
            "The substring 'test' is found at positions: [10, 16, 32]\n"
          ]
        }
      ]
    },
    {
      "cell_type": "code",
      "source": [
        "#Write a code to perform basic string compression using the counts of repeated character\n",
        "\n",
        "#code...\n",
        "\n",
        "def compress_string(s):\n",
        "    # Initialize variables\n",
        "    compressed = []\n",
        "    count = 1\n",
        "\n",
        "    # Loop through the string to count repeated characters\n",
        "    for i in range(1, len(s)):\n",
        "        if s[i] == s[i - 1]:\n",
        "            count += 1\n",
        "        else:\n",
        "            # Append the character and its count to the compressed list\n",
        "            compressed.append(s[i - 1] + str(count))\n",
        "            count = 1\n",
        "\n",
        "    # Append the last character and its count\n",
        "    compressed.append(s[-1] + str(count))\n",
        "\n",
        "    # Join the compressed list into a string\n",
        "    compressed_string = ''.join(compressed)\n",
        "\n",
        "    # Return the compressed string only if it's shorter, otherwise return original\n",
        "    return compressed_string if len(compressed_string) < len(s) else s\n",
        "\n",
        "# Example usage\n",
        "input_string = \"aabcccccaaa\"\n",
        "compressed = compress_string(input_string)\n",
        "print(compressed)\n"
      ],
      "metadata": {
        "id": "imt3qA7zTNJ7"
      },
      "execution_count": null,
      "outputs": []
    },
    {
      "cell_type": "code",
      "source": [
        "#Write a code to determine  if a string has all unique characters\n",
        "\n",
        "#code.....\n",
        "\n",
        "def has_unique_characters(string):\n",
        "  character_set = set()\n",
        "  for char in string:\n",
        "    if char in character_set:\n",
        "      return False\n",
        "    character_set.add(char)\n",
        "  return True\n",
        "\n",
        "# Example usage:\n",
        "string1 = \"abcde\"\n",
        "string2 = \"hello\"\n",
        "\n",
        "print(has_unique_characters(string1))\n",
        "print(has_unique_characters(string2))\n",
        "\n",
        "\n"
      ],
      "metadata": {
        "colab": {
          "base_uri": "https://localhost:8080/"
        },
        "id": "rhE2GpVZuoG6",
        "outputId": "afe4d5f4-9e65-4d56-fe41-633803de9380"
      },
      "execution_count": 1,
      "outputs": [
        {
          "output_type": "stream",
          "name": "stdout",
          "text": [
            "True\n",
            "False\n"
          ]
        }
      ]
    },
    {
      "cell_type": "code",
      "source": [
        "#Write a code to convert a given string to uppercase or lowercase\n",
        "\n",
        "#code....\n",
        "def convert_case(string, case):\n",
        "  if case == 'upper':\n",
        "    return string.upper()\n",
        "  elif case == 'lower':\n",
        "    return string.lower()\n",
        "  else:\n",
        "    raise ValueError(\"Invalid case. Must be 'upper' or 'lower'.\")\n",
        "\n",
        "# Example usage:\n",
        "string = \"Hello, World!\"\n",
        "\n",
        "upper_case_string = convert_case(string, 'upper')\n",
        "lower_case_string = convert_case(string, 'lower')\n",
        "\n",
        "print(upper_case_string)  # Output: HELLO, WORLD!\n",
        "print(lower_case_string)  # Output: hello, world!"
      ],
      "metadata": {
        "colab": {
          "base_uri": "https://localhost:8080/"
        },
        "id": "uEmweJI42YiS",
        "outputId": "72d31b67-ad77-483a-a87d-67accb04157e"
      },
      "execution_count": 7,
      "outputs": [
        {
          "output_type": "stream",
          "name": "stdout",
          "text": [
            "HELLO, WORLD!\n",
            "hello, world!\n"
          ]
        }
      ]
    },
    {
      "cell_type": "code",
      "source": [
        "#Write a code to count the number of words in string\n",
        "\n",
        "#code...\n",
        "\n",
        "def count_words(string):\n",
        "    # Split the string by spaces and count the resulting words\n",
        "    words = string.split()\n",
        "    return len(words)\n",
        "\n",
        "# Example usage\n",
        "string = \"This is an example string to count words.\"\n",
        "word_count = count_words(string)\n",
        "print(f\"Number of words: {word_count}\")\n"
      ],
      "metadata": {
        "colab": {
          "base_uri": "https://localhost:8080/"
        },
        "id": "8f76uY2o7XbV",
        "outputId": "8f4735d8-83e2-42d4-f46f-162ae8528d12"
      },
      "execution_count": 11,
      "outputs": [
        {
          "output_type": "stream",
          "name": "stdout",
          "text": [
            "Number of words: 8\n"
          ]
        }
      ]
    },
    {
      "cell_type": "code",
      "source": [
        "#write a code to concatenate two strings without using + operator\n",
        "\n",
        "#code...\n",
        "def concatenate_strings(string1, string2):\n",
        "    # Use join to concatenate two strings\n",
        "    return ''.join([string1, string2])\n",
        "\n",
        "# Example usage\n",
        "string1 = \"Hello, \"\n",
        "string2 = \"World!\"\n",
        "result = concatenate_strings(string1, string2)\n",
        "print(f\"Concatenated string: {result}\")\n"
      ],
      "metadata": {
        "colab": {
          "base_uri": "https://localhost:8080/"
        },
        "id": "3W80AN8U8C7S",
        "outputId": "bb4170ff-09a4-4191-a665-cf5008950a53"
      },
      "execution_count": 14,
      "outputs": [
        {
          "output_type": "stream",
          "name": "stdout",
          "text": [
            "Concatenated string: Hello, World!\n"
          ]
        }
      ]
    },
    {
      "cell_type": "code",
      "source": [
        "#write a code to remove all occurences of a specific element from list\n",
        "\n",
        "#code...\n",
        "def remove_occurrences(list, element):\n",
        "    # Iterate over the list and remove the specific element\n",
        "    result = []\n",
        "    for item in list:\n",
        "        if item != element:\n",
        "            result.append(item)\n",
        "    return result\n",
        "\n",
        "# Example usage\n",
        "list = [1, 2, 3, 4, 2, 5, 2, 6]\n",
        "element_to_remove = 2\n",
        "new_list = remove_occurrences(list, element_to_remove)\n",
        "print(f\"Updated list: {new_list}\")\n"
      ],
      "metadata": {
        "colab": {
          "base_uri": "https://localhost:8080/"
        },
        "id": "8Im-UBdu_FY-",
        "outputId": "a4789a1c-c712-48e9-ff34-ff8eea481df5"
      },
      "execution_count": 16,
      "outputs": [
        {
          "output_type": "stream",
          "name": "stdout",
          "text": [
            "Updated list: [1, 3, 4, 5, 6]\n"
          ]
        }
      ]
    },
    {
      "cell_type": "code",
      "source": [
        "# implement a code to find the second largest number in a given list of integer\n",
        "\n",
        "#code....\n",
        "def find_second_largest(lst):\n",
        "    if len(lst) < 2:\n",
        "        return None  # Return None if there are fewer than 2 unique elements\n",
        "\n",
        "    # Initialize first and second largest as negative infinity\n",
        "    largest = second_largest = float('-inf')\n",
        "\n",
        "    for num in lst:\n",
        "        if num > largest:\n",
        "            second_largest = largest\n",
        "            largest = num\n",
        "        elif num > second_largest and num != largest:\n",
        "            second_largest = num\n",
        "\n",
        "    return second_largest if second_largest != float('-inf') else None\n",
        "\n",
        "# Example usage\n",
        "lst = [10, 20, 4, 45, 99, 99]\n",
        "second_largest = find_second_largest(lst)\n",
        "if second_largest is not None:\n",
        "    print(f\"The second largest number is: {second_largest}\")\n",
        "else:\n",
        "    print(\"The list doesn't have a second largest number.\")\n"
      ],
      "metadata": {
        "colab": {
          "base_uri": "https://localhost:8080/"
        },
        "id": "-Yb_9LXhMrEq",
        "outputId": "08a7093b-fa2f-42f2-8d9d-247e796a9ff3"
      },
      "execution_count": 17,
      "outputs": [
        {
          "output_type": "stream",
          "name": "stdout",
          "text": [
            "The second largest number is: 45\n"
          ]
        }
      ]
    },
    {
      "cell_type": "code",
      "source": [
        "# create a code to count the occurence of each element in a list and return a distionary with element as keys and their counts as values\n",
        "\n",
        "# code...\n",
        "def find_second_largest(lst):\n",
        "    if len(lst) < 2:\n",
        "        return None  # Return None if there are fewer than 2 unique elements\n",
        "\n",
        "    # Initialize first and second largest as negative infinity\n",
        "    largest = second_largest = float('-inf')\n",
        "\n",
        "    for num in lst:\n",
        "        if num > largest:\n",
        "            second_largest = largest\n",
        "            largest = num\n",
        "        elif num > second_largest and num != largest:\n",
        "            second_largest = num\n",
        "\n",
        "    return second_largest if second_largest != float('-inf') else None\n",
        "\n",
        "# Example usage\n",
        "lst = [10, 20, 4, 45, 99, 99]\n",
        "second_largest = find_second_largest(lst)\n",
        "if second_largest is not None:\n",
        "    print(f\"The second largest number is: {second_largest}\")\n",
        "else:\n",
        "    print(\"The list doesn't have a second largest number.\")\n",
        "\n",
        "\n"
      ],
      "metadata": {
        "colab": {
          "base_uri": "https://localhost:8080/"
        },
        "id": "J02aLS91PB76",
        "outputId": "f71bf0e7-306d-4708-9bd8-c52e33d74cb5"
      },
      "execution_count": 18,
      "outputs": [
        {
          "output_type": "stream",
          "name": "stdout",
          "text": [
            "The second largest number is: 45\n"
          ]
        }
      ]
    },
    {
      "cell_type": "code",
      "source": [
        "#write a code to reverse a list in-place without using any built -in reverse function\n",
        "\n",
        "#code...\n",
        "def reverse_list(lst):\n",
        "    # Initialize two pointers, one at the start and one at the end\n",
        "    start = 0\n",
        "    end = len(lst) - 1\n",
        "\n",
        "    # Swap elements until the pointers meet in the middle\n",
        "    while start < end:\n",
        "        # Swap the elements\n",
        "        lst[start], lst[end] = lst[end], lst[start]\n",
        "\n",
        "        # Move the pointers\n",
        "        start += 1\n",
        "        end -= 1\n",
        "\n",
        "# Example usage:\n",
        "my_list = [1, 2, 3, 4, 5]\n",
        "reverse_list(my_list)\n",
        "print(\"Reversed list:\", my_list)\n"
      ],
      "metadata": {
        "colab": {
          "base_uri": "https://localhost:8080/"
        },
        "id": "wITJspRAUAO_",
        "outputId": "0e898aca-7a8a-46c7-8573-703781bfdad6"
      },
      "execution_count": 19,
      "outputs": [
        {
          "output_type": "stream",
          "name": "stdout",
          "text": [
            "Reversed list: [5, 4, 3, 2, 1]\n"
          ]
        }
      ]
    },
    {
      "cell_type": "code",
      "source": [
        "# implement a code to find and remove duplicates from a list while preserving the original order of element\n",
        "\n",
        "#code...\n",
        "def remove_duplicates(lst):\n",
        "    seen = set()  # To keep track of elements we've already encountered\n",
        "    result = []   # To store the list without duplicates\n",
        "\n",
        "    # Iterate over the list\n",
        "    for item in lst:\n",
        "        # If the item is not in seen, add it to the result and mark it as seen\n",
        "        if item not in seen:\n",
        "            result.append(item)\n",
        "            seen.add(item)\n",
        "\n",
        "    return result\n",
        "\n",
        "# Example usage:\n",
        "my_list = [1, 2, 2, 3, 4, 4, 5, 1]\n",
        "unique_list = remove_duplicates(my_list)\n",
        "print(\"List after removing duplicates:\", unique_list)\n"
      ],
      "metadata": {
        "colab": {
          "base_uri": "https://localhost:8080/"
        },
        "id": "l6x_PbIqYaMN",
        "outputId": "ee0faf61-7b6a-4744-aedc-fbd0bc7e8e27"
      },
      "execution_count": 20,
      "outputs": [
        {
          "output_type": "stream",
          "name": "stdout",
          "text": [
            "List after removing duplicates: [1, 2, 3, 4, 5]\n"
          ]
        }
      ]
    },
    {
      "cell_type": "code",
      "source": [
        "#create a code to check if a given list is sorted\n",
        "\n",
        "#code....\n",
        "def is_sorted(lst):\n",
        "    # Iterate through the list and compare each element with the next one\n",
        "    for i in range(len(lst) - 1):\n",
        "        if lst[i] > lst[i + 1]:\n",
        "            return False  # If any element is greater than the next, it's not sorted\n",
        "    return True  # If no violations are found, the list is sorted\n",
        "\n",
        "# Example usage:\n",
        "my_list = [1, 2, 3, 4, 5]\n",
        "print(\"Is the list sorted?\", is_sorted(my_list))  # Output: True\n",
        "\n",
        "unsorted_list = [1, 3, 2, 4, 5]\n",
        "print(\"Is the list sorted?\", is_sorted(unsorted_list))  # Output: False\n"
      ],
      "metadata": {
        "colab": {
          "base_uri": "https://localhost:8080/"
        },
        "id": "XDGNqyrGZEAL",
        "outputId": "d9df4864-3afa-42b5-89b5-62605107663d"
      },
      "execution_count": 21,
      "outputs": [
        {
          "output_type": "stream",
          "name": "stdout",
          "text": [
            "Is the list sorted? True\n",
            "Is the list sorted? False\n"
          ]
        }
      ]
    },
    {
      "cell_type": "code",
      "source": [
        "#write a code to merge two sorted list into a single sorted list\n",
        "\n",
        "#code\n",
        "def merge_sorted_lists(list1, list2):\n",
        "    merged_list = []  # Initialize the result list\n",
        "    i, j = 0, 0       # Pointers for both lists\n",
        "\n",
        "    # Loop through both lists until we reach the end of one\n",
        "    while i < len(list1) and j < len(list2):\n",
        "        if list1[i] < list2[j]:\n",
        "            merged_list.append(list1[i])\n",
        "            i += 1\n",
        "        else:\n",
        "            merged_list.append(list2[j])\n",
        "            j += 1\n",
        "\n",
        "    # Add any remaining elements from list1\n",
        "    while i < len(list1):\n",
        "        merged_list.append(list1[i])\n",
        "        i += 1\n",
        "\n",
        "    # Add any remaining elements from list2\n",
        "    while j < len(list2):\n",
        "        merged_list.append(list2[j])\n",
        "        j += 1\n",
        "\n",
        "    return merged_list\n",
        "\n",
        "# Example usage:\n",
        "sorted_list1 = [1, 3, 5, 7]\n",
        "sorted_list2 = [2, 4, 6, 8]\n",
        "merged_list = merge_sorted_lists(sorted_list1, sorted_list2)\n",
        "print(\"Merged sorted list:\", merged_list)\n"
      ],
      "metadata": {
        "colab": {
          "base_uri": "https://localhost:8080/"
        },
        "id": "9EInwwzaZjc7",
        "outputId": "d644a53b-1643-4cc0-c053-7a156fe924be"
      },
      "execution_count": 22,
      "outputs": [
        {
          "output_type": "stream",
          "name": "stdout",
          "text": [
            "Merged sorted list: [1, 2, 3, 4, 5, 6, 7, 8]\n"
          ]
        }
      ]
    },
    {
      "cell_type": "code",
      "source": [
        "#implement a code to find the intersection of two given list\n",
        "\n",
        "#code...\n",
        "def find_intersection(list1, list2):\n",
        "    # Convert list2 to a set for faster lookups\n",
        "    set2 = set(list2)\n",
        "\n",
        "    # Use a list to store the intersection elements\n",
        "    intersection = []\n",
        "\n",
        "    # Iterate through list1 and check if each element is in set2\n",
        "    for item in list1:\n",
        "        if item in set2:\n",
        "            intersection.append(item)\n",
        "            set2.remove(item)  # Remove the item to avoid duplicates in the intersection\n",
        "\n",
        "    return intersection\n",
        "\n",
        "# Example usage:\n",
        "list1 = [1, 2, 3, 4, 5]\n",
        "list2 = [4, 5, 6, 7, 8]\n",
        "intersection_list = find_intersection(list1, list2)\n",
        "print(\"Intersection of the two lists:\", intersection_list)\n",
        "\n"
      ],
      "metadata": {
        "colab": {
          "base_uri": "https://localhost:8080/"
        },
        "id": "XegcsJMMaCs4",
        "outputId": "b0e58a7f-40b9-4098-f279-b6dea7370db1"
      },
      "execution_count": 24,
      "outputs": [
        {
          "output_type": "stream",
          "name": "stdout",
          "text": [
            "Intersection of the two lists: [4, 5]\n"
          ]
        }
      ]
    },
    {
      "cell_type": "code",
      "source": [
        "#create a code to find the union of two two lists without dublicates\n",
        "\n",
        "#code...\n",
        "def find_union(list1, list2):\n",
        "    seen = set()    # To keep track of elements that have already been added\n",
        "    union = []      # To store the union of the lists\n",
        "\n",
        "    # Iterate through the first list\n",
        "    for item in list1:\n",
        "        if item not in seen:\n",
        "            union.append(item)\n",
        "            seen.add(item)\n",
        "\n",
        "    # Iterate through the second list\n",
        "    for item in list2:\n",
        "        if item not in seen:\n",
        "            union.append(item)\n",
        "            seen.add(item)\n",
        "\n",
        "    return union\n",
        "\n",
        "# Example usage:\n",
        "list1 = [1, 2, 3, 4, 5]\n",
        "list2 = [4, 5, 6, 7, 8]\n",
        "union_list = find_union(list1, list2)\n",
        "print(\"Union of the two lists:\", union_list)\n"
      ],
      "metadata": {
        "colab": {
          "base_uri": "https://localhost:8080/"
        },
        "id": "vcL9yZ6oa3AV",
        "outputId": "1f12a653-7ee5-4f59-feac-177d9dfee4ac"
      },
      "execution_count": 25,
      "outputs": [
        {
          "output_type": "stream",
          "name": "stdout",
          "text": [
            "Union of the two lists: [1, 2, 3, 4, 5, 6, 7, 8]\n"
          ]
        }
      ]
    },
    {
      "cell_type": "code",
      "source": [
        "#write a code to suffle a given list randomly without using any built in shuffle functions\n",
        "\n",
        "#code....\n",
        "\n",
        "import random\n",
        "\n",
        "def fisher_yates_shuffle(lst):\n",
        "    # Iterate over the list from the last element to the second element\n",
        "    for i in range(len(lst) - 1, 0, -1):\n",
        "        # Pick a random index from 0 to i\n",
        "        j = random.randint(0, i)\n",
        "        # Swap elements at index i and j\n",
        "        lst[i], lst[j] = lst[j], lst[i]\n",
        "\n",
        "# Example usage:\n",
        "my_list = [1, 2, 3, 4, 5]\n",
        "print(\"Original list:\", my_list)\n",
        "\n",
        "fisher_yates_shuffle(my_list)\n",
        "print(\"Shuffled list:\", my_list)\n"
      ],
      "metadata": {
        "colab": {
          "base_uri": "https://localhost:8080/"
        },
        "id": "KoU-hwcRbZbU",
        "outputId": "222cee8f-12b0-4485-8be6-d3f2392ea7b6"
      },
      "execution_count": 26,
      "outputs": [
        {
          "output_type": "stream",
          "name": "stdout",
          "text": [
            "Original list: [1, 2, 3, 4, 5]\n",
            "Shuffled list: [1, 5, 3, 2, 4]\n"
          ]
        }
      ]
    },
    {
      "cell_type": "code",
      "source": [
        "#write a code that takes two touples as input and returns a new touple containing element that are common to both input touples\n",
        "\n",
        "#code...\n",
        "def intersection_of_tuples(tuple1, tuple2):\n",
        "    # Convert tuples to sets to find the intersection\n",
        "    set1 = set(tuple1)\n",
        "    set2 = set(tuple2)\n",
        "\n",
        "    # Find the intersection of the two sets\n",
        "    common_elements = set1 & set2  # You can also use set1.intersection(set2)\n",
        "\n",
        "    # Convert the result back to a tuple and return\n",
        "    return tuple(common_elements)\n",
        "\n",
        "# Example usage:\n",
        "tuple1 = (1, 2, 3, 4, 5)\n",
        "tuple2 = (4, 5, 6, 7, 8)\n",
        "result_tuple = intersection_of_tuples(tuple1, tuple2)\n",
        "print(\"Common elements in the tuples:\", result_tuple)\n"
      ],
      "metadata": {
        "colab": {
          "base_uri": "https://localhost:8080/"
        },
        "id": "QQTwKI3Kb_tC",
        "outputId": "6f35c00c-9489-465c-ab8c-38a3f57e93c4"
      },
      "execution_count": 27,
      "outputs": [
        {
          "output_type": "stream",
          "name": "stdout",
          "text": [
            "Common elements in the tuples: (4, 5)\n"
          ]
        }
      ]
    },
    {
      "cell_type": "code",
      "source": [
        "#create a code that prompts the user to enter two sets of integers separated by commas. then prints  the intersection of these two sets\n",
        "\n",
        "#code...\n",
        "def get_set_from_input(prompt):\n",
        "    # Prompt the user for input\n",
        "    user_input = input(prompt)\n",
        "    # Convert the input string to a list of integers\n",
        "    int_list = [int(x.strip()) for x in user_input.split(',') if x.strip().isdigit()]\n",
        "    # Convert the list to a set and return\n",
        "    return set(int_list)\n",
        "\n",
        "def main():\n",
        "    # Get two sets of integers from the user\n",
        "    set1 = get_set_from_input(\"Enter the first set of integers separated by commas: \")\n",
        "    set2 = get_set_from_input(\"Enter the second set of integers separated by commas: \")\n",
        "\n",
        "    # Find the intersection of the two sets\n",
        "    intersection = set1 & set2\n",
        "\n",
        "    # Print the intersection\n",
        "    print(\"Intersection of the two sets:\", intersection)\n",
        "\n",
        "# Run the main function\n",
        "main()\n",
        "\n"
      ],
      "metadata": {
        "colab": {
          "base_uri": "https://localhost:8080/"
        },
        "id": "QXfEXWBsc7eF",
        "outputId": "7f6b4753-cede-412c-8b0e-9ebbc4eaea08"
      },
      "execution_count": 28,
      "outputs": [
        {
          "output_type": "stream",
          "name": "stdout",
          "text": [
            "Enter the first set of integers separated by commas: 1,2,34,5\n",
            "Enter the second set of integers separated by commas: 4,3,2,2,6\n",
            "Intersection of the two sets: {2}\n"
          ]
        }
      ]
    },
    {
      "cell_type": "code",
      "source": [
        "#write a code concatenate two touples .the function should take two touples as input and return a new touple containing elements from both input touples.\n",
        "\n",
        "#code...\n",
        "def concatenate_tuples(tuple1, tuple2):\n",
        "    # Concatenate the two tuples\n",
        "    result = tuple1 + tuple2\n",
        "    return result\n",
        "\n",
        "# Example usage:\n",
        "tuple1 = (1, 2, 3)\n",
        "tuple2 = (4, 5, 6)\n",
        "result_tuple = concatenate_tuples(tuple1, tuple2)\n",
        "print(\"Concatenated tuple:\", result_tuple)\n"
      ],
      "metadata": {
        "colab": {
          "base_uri": "https://localhost:8080/"
        },
        "id": "KhCEiZRMdrQe",
        "outputId": "66f60197-2613-4612-f521-2f09cf4dfe83"
      },
      "execution_count": 30,
      "outputs": [
        {
          "output_type": "stream",
          "name": "stdout",
          "text": [
            "Concatenated tuple: (1, 2, 3, 4, 5, 6)\n"
          ]
        }
      ]
    },
    {
      "cell_type": "code",
      "source": [
        "#develop a code that prompts the user to input of two strings. then print the elements that are present in the first set but not in the second set\n",
        "\n",
        "#code....\n",
        "def get_unique_characters(input_str):\n",
        "    # Convert the string to a set of characters\n",
        "    return set(input_str)\n",
        "\n",
        "def main():\n",
        "    # Prompt the user for two strings\n",
        "    string1 = input(\"Enter the first string: \")\n",
        "    string2 = input(\"Enter the second string: \")\n",
        "\n",
        "    # Get unique characters from both strings\n",
        "    set1 = get_unique_characters(string1)\n",
        "    set2 = get_unique_characters(string2)\n",
        "\n",
        "    # Find the difference between the two sets (characters in set1 but not in set2)\n",
        "    difference = set1 - set2\n",
        "\n",
        "    # Print the result\n",
        "    print(\"Characters in the first string but not in the second:\", difference)\n",
        "\n",
        "# Run the main function\n",
        "main()\n"
      ],
      "metadata": {
        "colab": {
          "base_uri": "https://localhost:8080/"
        },
        "id": "W06ynD0cjA3I",
        "outputId": "aacba79e-b825-4ea3-8e44-7084c3ee8006"
      },
      "execution_count": 2,
      "outputs": [
        {
          "output_type": "stream",
          "name": "stdout",
          "text": [
            "Enter the first string: akanksha\n",
            "Enter the second string: ram\n",
            "Characters in the first string but not in the second: {'k', 's', 'h', 'n'}\n"
          ]
        }
      ]
    },
    {
      "cell_type": "code",
      "source": [
        "#create a code that takes a touple and two integer as input.\n",
        "#the function should return new touple containning elements from the original touple within the specified range of indices\n",
        "\n",
        "\n",
        "#code...\n",
        "def slice_tuple(original_tuple, start_index, end_index):\n",
        "    # Slice the tuple using the provided start and end indices\n",
        "    return original_tuple[start_index:end_index]\n",
        "\n",
        "# Example usage:\n",
        "original_tuple = (10, 20, 30, 40, 50, 60, 70)\n",
        "start = 2\n",
        "end = 5\n",
        "result_tuple = slice_tuple(original_tuple, start, end)\n",
        "print(\"Sliced tuple:\", result_tuple)\n",
        "\n"
      ],
      "metadata": {
        "colab": {
          "base_uri": "https://localhost:8080/"
        },
        "id": "g7g398Y4kDqB",
        "outputId": "88bea917-b65e-4280-af12-4c7aabd7b7da"
      },
      "execution_count": 3,
      "outputs": [
        {
          "output_type": "stream",
          "name": "stdout",
          "text": [
            "Sliced tuple: (30, 40, 50)\n"
          ]
        }
      ]
    },
    {
      "cell_type": "code",
      "source": [
        "#create a code that prompts the user to input two set of characters .then print the union of these two set\n",
        "\n",
        "#code....\n",
        "\n",
        "def get_character_set(prompt):\n",
        "    # Prompt the user for input and convert it to a set of characters\n",
        "    user_input = input(prompt)\n",
        "    return set(user_input)\n",
        "\n",
        "def main():\n",
        "    # Get two sets of characters from the user\n",
        "    set1 = get_character_set(\"Enter the first set of characters: \")\n",
        "    set2 = get_character_set(\"Enter the second set of characters: \")\n",
        "\n",
        "    # Find the union of the two sets\n",
        "    union_set = set1 | set2  # You can also use set1.union(set2)\n",
        "\n",
        "    # Print the union of the two sets\n",
        "    print(\"Union of the two sets:\", union_set)\n",
        "\n",
        "# Run the main function\n",
        "main()\n"
      ],
      "metadata": {
        "colab": {
          "base_uri": "https://localhost:8080/"
        },
        "id": "DoESNTX1lP_5",
        "outputId": "ec09bd6b-3e41-4666-c6ff-86f5808cd884"
      },
      "execution_count": 4,
      "outputs": [
        {
          "output_type": "stream",
          "name": "stdout",
          "text": [
            "Enter the first set of characters: abcd\n",
            "Enter the second set of characters: ghjkl\n",
            "Union of the two sets: {'j', 'b', 'a', 'g', 'd', 'k', 'h', 'c', 'l'}\n"
          ]
        }
      ]
    },
    {
      "cell_type": "code",
      "source": [
        "# develop a code that takes touple of integer as a input. the funtion should return the maximum and minimum value from the touple using touple unpacking\n",
        "\n",
        "#code...\n",
        "def find_max_min(values):\n",
        "    # Unpack the first element as the initial min and max values\n",
        "    min_val, max_val = values[0], values[0]\n",
        "\n",
        "    # Iterate through the tuple and update min and max values\n",
        "    for value in values[1:]:\n",
        "        if value < min_val:\n",
        "            min_val = value\n",
        "        if value > max_val:\n",
        "            max_val = value\n",
        "\n",
        "    # Return the min and max values as a tuple\n",
        "    return min_val, max_val\n",
        "\n",
        "# Example usage:\n",
        "input_tuple = (10, 25, 3, 45, 7, 89, 2)\n",
        "min_val, max_val = find_max_min(input_tuple)\n",
        "print(f\"Minimum value: {min_val}, Maximum value: {max_val}\")\n"
      ],
      "metadata": {
        "colab": {
          "base_uri": "https://localhost:8080/"
        },
        "id": "zr5ZBCTGl-cU",
        "outputId": "4945b3db-5da4-445b-db28-8e038e20ed54"
      },
      "execution_count": 5,
      "outputs": [
        {
          "output_type": "stream",
          "name": "stdout",
          "text": [
            "Minimum value: 2, Maximum value: 89\n"
          ]
        }
      ]
    },
    {
      "cell_type": "code",
      "source": [
        "#create a code that defines two set of integers . then print union, intersection and difference of these two sets\n",
        "\n",
        "#code...\n",
        "def main():\n",
        "    # Define two sets of integers\n",
        "    set1 = {1, 2, 3, 4, 5}\n",
        "    set2 = {4, 5, 6, 7, 8}\n",
        "\n",
        "    # Compute the union of the two sets\n",
        "    union_set = set1 | set2  # Or set1.union(set2)\n",
        "\n",
        "    # Compute the intersection of the two sets\n",
        "    intersection_set = set1 & set2  # Or set1.intersection(set2)\n",
        "\n",
        "    # Compute the difference between the two sets (set1 - set2)\n",
        "    difference_set = set1 - set2  # Or set1.difference(set2)\n",
        "\n",
        "    # Print the results\n",
        "    print(\"Union of the two sets:\", union_set)\n",
        "    print(\"Intersection of the two sets:\", intersection_set)\n",
        "    print(\"Difference (set1 - set2):\", difference_set)\n",
        "\n",
        "# Run the main function\n",
        "main()\n"
      ],
      "metadata": {
        "colab": {
          "base_uri": "https://localhost:8080/"
        },
        "id": "WGA-x82dm0c2",
        "outputId": "2d98bb23-e5c4-4b28-e79e-66a16a033450"
      },
      "execution_count": 6,
      "outputs": [
        {
          "output_type": "stream",
          "name": "stdout",
          "text": [
            "Union of the two sets: {1, 2, 3, 4, 5, 6, 7, 8}\n",
            "Intersection of the two sets: {4, 5}\n",
            "Difference (set1 - set2): {1, 2, 3}\n"
          ]
        }
      ]
    },
    {
      "cell_type": "code",
      "source": [
        "#write the code that takes touple and an element as input .the funtion should return the count of occurences of given element in the touple\n",
        "\n",
        "#code....\n",
        "def count_occurrences(input_tuple, element):\n",
        "    # Initialize a counter to zero\n",
        "    count = 0\n",
        "\n",
        "    # Iterate through the tuple and count occurrences of the element\n",
        "    for item in input_tuple:\n",
        "        if item == element:\n",
        "            count += 1\n",
        "\n",
        "    return count\n",
        "\n",
        "# Example usage:\n",
        "input_tuple = (1, 2, 3, 4, 2, 5, 2, 6)\n",
        "element_to_count = 2\n",
        "occurrences = count_occurrences(input_tuple, element_to_count)\n",
        "print(f\"The element {element_to_count} occurs {occurrences} times in the tuple.\")\n"
      ],
      "metadata": {
        "colab": {
          "base_uri": "https://localhost:8080/"
        },
        "id": "cWyvN8bMn3X1",
        "outputId": "cb2bfcfd-3b9a-48af-f8c6-af916aa5ad56"
      },
      "execution_count": 7,
      "outputs": [
        {
          "output_type": "stream",
          "name": "stdout",
          "text": [
            "The element 2 occurs 3 times in the tuple.\n"
          ]
        }
      ]
    },
    {
      "cell_type": "code",
      "source": [
        "#develop a code prompt the user to input two sets of string\n",
        "# then print the symmetric difference of these two sets .\n",
        "\n",
        "#code...\n",
        "\n",
        "def get_string_set(prompt):\n",
        "    # Prompt the user for input and convert it to a set of strings\n",
        "    user_input = input(prompt)\n",
        "    return set(user_input.split())\n",
        "\n",
        "def main():\n",
        "    # Get two sets of strings from the user\n",
        "    set1 = get_string_set(\"Enter the first set of strings (space-separated): \")\n",
        "    set2 = get_string_set(\"Enter the second set of strings (space-separated): \")\n",
        "\n",
        "    # Find the symmetric difference between the two sets\n",
        "    symmetric_difference = set1 ^ set2  # Or set1.symmetric_difference(set2)\n",
        "\n",
        "    # Print the symmetric difference\n",
        "    print(\"Symmetric difference of the two sets:\", symmetric_difference)\n",
        "\n",
        "# Run the main function\n",
        "main()\n"
      ],
      "metadata": {
        "colab": {
          "base_uri": "https://localhost:8080/"
        },
        "id": "uTCAXArwojGc",
        "outputId": "fafa1d11-c289-4f11-9c7f-3b22f919244a"
      },
      "execution_count": 8,
      "outputs": [
        {
          "output_type": "stream",
          "name": "stdout",
          "text": [
            "Enter the first set of strings (space-separated): hello everyone\n",
            "Enter the second set of strings (space-separated): good bye\n",
            "Symmetric difference of the two sets: {'bye', 'hello', 'everyone', 'good'}\n"
          ]
        }
      ]
    },
    {
      "cell_type": "code",
      "source": [
        "#write a code that takes a list of words as input and return a dictionary where the keys are unique words and te values are the frequencies of those words in the input list\n",
        "\n",
        "#code....\n",
        "def word_frequencies(words_list):\n",
        "    # Initialize an empty dictionary to store word frequencies\n",
        "    frequency_dict = {}\n",
        "\n",
        "    # Iterate over each word in the list\n",
        "    for word in words_list:\n",
        "        # If the word is already a key in the dictionary, increment its value by 1\n",
        "        if word in frequency_dict:\n",
        "            frequency_dict[word] += 1\n",
        "        # If the word is not in the dictionary, add it with a value of 1\n",
        "        else:\n",
        "            frequency_dict[word] = 1\n",
        "\n",
        "    return frequency_dict\n",
        "\n",
        "# Example usage:\n",
        "words = [\"apple\", \"banana\", \"apple\", \"orange\", \"banana\", \"apple\"]\n",
        "frequencies = word_frequencies(words)\n",
        "print(frequencies)\n"
      ],
      "metadata": {
        "colab": {
          "base_uri": "https://localhost:8080/"
        },
        "id": "0R22I-yepPgn",
        "outputId": "7558ef61-fff3-4ba6-9ed9-5b8011ef26bf"
      },
      "execution_count": 9,
      "outputs": [
        {
          "output_type": "stream",
          "name": "stdout",
          "text": [
            "{'apple': 3, 'banana': 2, 'orange': 1}\n"
          ]
        }
      ]
    },
    {
      "cell_type": "code",
      "source": [
        "#write a code that takes two dictionaries as input and merges them input a single dictionary .\n",
        "#if they are common keys .the values should be added together\n",
        "\n",
        "\n",
        "#code...\n",
        "def merge_dictionaries(dict1, dict2):\n",
        "    # Create a new dictionary to store the merged results\n",
        "    merged_dict = dict1.copy()\n",
        "\n",
        "    # Iterate through the second dictionary\n",
        "    for key, value in dict2.items():\n",
        "        # If the key is already in the merged dictionary, add the values\n",
        "        if key in merged_dict:\n",
        "            merged_dict[key] += value\n",
        "        # If the key is not in the merged dictionary, add the key-value pair\n",
        "        else:\n",
        "            merged_dict[key] = value\n",
        "\n",
        "    return merged_dict\n",
        "\n",
        "# Example usage:\n",
        "dict1 = {'a': 10, 'b': 20, 'c': 30}\n",
        "dict2 = {'b': 5, 'c': 15, 'd': 25}\n",
        "merged_dict = merge_dictionaries(dict1, dict2)\n",
        "print(merged_dict)\n"
      ],
      "metadata": {
        "colab": {
          "base_uri": "https://localhost:8080/"
        },
        "id": "UFY7LXOTqOX0",
        "outputId": "e10c3627-998a-4245-94a8-e4b3daaa6245"
      },
      "execution_count": 10,
      "outputs": [
        {
          "output_type": "stream",
          "name": "stdout",
          "text": [
            "{'a': 10, 'b': 25, 'c': 45, 'd': 25}\n"
          ]
        }
      ]
    },
    {
      "cell_type": "code",
      "source": [
        "#write a code to access a value in a nested distionary .the funtion should take the dictionary and a list of keys as input ,and return the corresponding value.\n",
        "#if any one key do not exits in the distionary ,the funtion should return none\n",
        "\n",
        "\n",
        "#code....\n",
        "\n",
        "def get_nested_value(nested_dict, keys_list):\n",
        "    # Start with the full dictionary\n",
        "    current_value = nested_dict\n",
        "\n",
        "    # Iterate through the list of keys\n",
        "    for key in keys_list:\n",
        "        # Check if the current key exists in the dictionary\n",
        "        if isinstance(current_value, dict) and key in current_value:\n",
        "            current_value = current_value[key]\n",
        "        else:\n",
        "            # Return None if the key is not found\n",
        "            return None\n",
        "\n",
        "    return current_value\n",
        "\n",
        "# Example usage:\n",
        "nested_dict = {\n",
        "    'a': {\n",
        "        'b': {\n",
        "            'c': 42\n",
        "        }\n",
        "    },\n",
        "    'x': {\n",
        "        'y': {\n",
        "            'z': 99\n",
        "        }\n",
        "    }\n",
        "}\n",
        "\n",
        "# Test with a valid path\n",
        "keys_list = ['a', 'b', 'c']\n",
        "result = get_nested_value(nested_dict, keys_list)\n",
        "print(result)  # Output: 42\n",
        "\n",
        "# Test with an invalid path\n",
        "keys_list = ['a', 'b', 'd']\n",
        "result = get_nested_value(nested_dict, keys_list)\n",
        "print(result)  # Output: None\n"
      ],
      "metadata": {
        "colab": {
          "base_uri": "https://localhost:8080/"
        },
        "id": "TwwodvyTrBEp",
        "outputId": "1a2e52a4-45e5-43d3-9e66-4c6e0a7bbcac"
      },
      "execution_count": 12,
      "outputs": [
        {
          "output_type": "stream",
          "name": "stdout",
          "text": [
            "42\n",
            "None\n"
          ]
        }
      ]
    },
    {
      "cell_type": "code",
      "source": [
        "#write code that takes a dictionary as input and retun shorted version of it bases on the values.You can choose whether to sort in ascending and decending order\n",
        "\n",
        "#code...\n",
        "def sort_dict_by_values(input_dict, ascending=True):\n",
        "    # Sort the dictionary by its values and return a new dictionary\n",
        "    sorted_dict = dict(sorted(input_dict.items(), key=lambda item: item[1], reverse=not ascending))\n",
        "    return sorted_dict\n",
        "\n",
        "# Example usage:\n",
        "input_dict = {'a': 10, 'b': 5, 'c': 15, 'd': 20}\n",
        "\n",
        "# Sort in ascending order\n",
        "sorted_asc = sort_dict_by_values(input_dict, ascending=True)\n",
        "print(\"Sorted in ascending order:\", sorted_asc)\n",
        "\n",
        "# Sort in descending order\n",
        "sorted_desc = sort_dict_by_values(input_dict, ascending=False)\n",
        "print(\"Sorted in descending order:\", sorted_desc)\n",
        "\n"
      ],
      "metadata": {
        "colab": {
          "base_uri": "https://localhost:8080/"
        },
        "id": "_HmklkoQsH3h",
        "outputId": "b223e2ff-1bb9-46a8-d31e-187d1f8b288e"
      },
      "execution_count": 14,
      "outputs": [
        {
          "output_type": "stream",
          "name": "stdout",
          "text": [
            "Sorted in ascending order: {'b': 5, 'a': 10, 'c': 15, 'd': 20}\n",
            "Sorted in descending order: {'d': 20, 'c': 15, 'a': 10, 'b': 5}\n"
          ]
        }
      ]
    },
    {
      "cell_type": "code",
      "source": [
        "#write a code that inverts a distionary ,swapping keys and values. ensure that the inverted dictionary correctly habdles cases where multiple keys have the same value by sorting the keys as a list in the\n",
        "#inverted disctionary\n",
        "\n",
        "#code...\n",
        "def invert_dict(input_dict):\n",
        "    # Create an empty dictionary to store the inverted results\n",
        "    inverted_dict = {}\n",
        "\n",
        "    # Iterate through the input dictionary\n",
        "    for key, value in input_dict.items():\n",
        "        # If the value is not in the inverted dictionary, add it with the key as a list\n",
        "        if value not in inverted_dict:\n",
        "            inverted_dict[value] = [key]\n",
        "        else:\n",
        "            # Append the key to the existing list and sort the list\n",
        "            inverted_dict[value].append(key)\n",
        "            inverted_dict[value].sort()\n",
        "\n",
        "    return inverted_dict\n",
        "\n",
        "# Example usage:\n",
        "input_dict = {\n",
        "    'a': 10,\n",
        "    'b': 5,\n",
        "    'c': 10,\n",
        "    'd': 20,\n",
        "    'e': 5\n",
        "}\n",
        "\n",
        "inverted = invert_dict(input_dict)\n",
        "print(\"Inverted dictionary:\", inverted)\n"
      ],
      "metadata": {
        "colab": {
          "base_uri": "https://localhost:8080/"
        },
        "id": "_7kaZTqdtEuw",
        "outputId": "ed579f36-49d5-47ec-8af5-c4491f271d06"
      },
      "execution_count": 15,
      "outputs": [
        {
          "output_type": "stream",
          "name": "stdout",
          "text": [
            "Inverted dictionary: {10: ['a', 'c'], 5: ['b', 'e'], 20: ['d']}\n"
          ]
        }
      ]
    }
  ]
}